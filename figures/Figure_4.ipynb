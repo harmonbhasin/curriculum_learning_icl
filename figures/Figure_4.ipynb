{
 "cells": [
  {
   "cell_type": "code",
   "execution_count": null,
   "metadata": {},
   "outputs": [],
   "source": [
    "import pandas as pd\n",
    "import matplotlib.pyplot as plt\n",
    "import numpy as np"
   ]
  },
  {
   "cell_type": "code",
   "execution_count": null,
   "metadata": {},
   "outputs": [],
   "source": [
    "cubic = pd.read_csv('./final/seed_1_sequential_mse.txt', sep ='\\t', header = None)\n",
    "mixed = pd.read_csv('./final/seed_1_mixed_sequential_mse.txt', sep ='\\t', header = None)"
   ]
  },
  {
   "cell_type": "code",
   "execution_count": null,
   "metadata": {},
   "outputs": [],
   "source": [
    "cubic = cubic.rename(columns={1:'Cubic'})\n",
    "cubic['training_step'] = cubic.index\n",
    "cubic\n",
    "#cubic = cubic.rename(columns={0:'MSE'})\n",
    "#cubic['training_step'] = cubic.index\n",
    "#cubic['type'] = 'Cubic'\n",
    "#cubic"
   ]
  },
  {
   "cell_type": "code",
   "execution_count": null,
   "metadata": {},
   "outputs": [],
   "source": [
    "mixed = mixed.rename(columns={0:'Task',1:'Mixed'})\n",
    "mixed = mixed[mixed['Task'] == 2].reset_index(drop=True)\n",
    "mixed['training_step'] = mixed.index\n",
    "mixed\n",
    "\n",
    "#mixed = mixed.rename(columns={0:'MSE'})\n",
    "#mixed['training_step'] = mixed.index\n",
    "#mixed['type'] = 'Mixed'\n",
    "#mixed"
   ]
  },
  {
   "cell_type": "code",
   "execution_count": null,
   "metadata": {},
   "outputs": [],
   "source": [
    "joint = cubic.merge(mixed, on='training_step', how='left')\n",
    "#joint = pd.concat([cubic, mixed]).sort_index(axis=0)\n",
    "joint"
   ]
  },
  {
   "cell_type": "code",
   "execution_count": null,
   "metadata": {},
   "outputs": [],
   "source": [
    "training_steps = joint['training_step']\n",
    "cubic_y = joint['Cubic']\n",
    "mixed_y = joint['Mixed']"
   ]
  },
  {
   "cell_type": "code",
   "execution_count": null,
   "metadata": {},
   "outputs": [],
   "source": [
    "mv_cubic = cubic_y.rolling(window=1000).mean()/20\n",
    "mv_mixed = mixed_y.rolling(window=1000).mean()/20\n",
    "head_dir=\"/Users/harmonbhasin/College/Research/huLab/paper_figures/task_mask\""
   ]
  },
  {
   "cell_type": "code",
   "execution_count": null,
   "metadata": {},
   "outputs": [],
   "source": [
    "mv_mixed.last_valid_index()\n",
    "mv_mixed\n",
    "mv_cubic"
   ]
  },
  {
   "cell_type": "code",
   "execution_count": null,
   "metadata": {},
   "outputs": [],
   "source": [
    "shifted_mv_mixed = mv_mixed.fillna(method='bfill')\n",
    "shifted_mv_mixed\n",
    "continuation = shifted_mv_mixed.fillna(mv_mixed[mv_mixed.last_valid_index()])\n",
    "continuation"
   ]
  },
  {
   "cell_type": "code",
   "execution_count": null,
   "metadata": {},
   "outputs": [],
   "source": [
    "import matplotlib.pyplot as plt\n",
    "import numpy as np\n",
    "\n",
    "plt.style.use('seaborn-whitegrid')  # Set the aesthetic style of the plots\n",
    "fig, ax = plt.subplots(figsize=(3.3, 1.9))  # Create a figure and axes object\n",
    "x_ticks = np.arange(0, 500001, 50000)\n",
    "ax.set_xticks(x_ticks)\n",
    "ax.tick_params(axis='both', labelsize=10)\n",
    "ax.ticklabel_format(style='sci', axis='x', scilimits=(0, 0))\n",
    "ax.xaxis.offsetText.set_fontname('Times New Roman')\n",
    "ax.yaxis.offsetText.set_fontname('Times New Roman')\n",
    "\n",
    "ax.plot(training_steps, mv_cubic, color = '#af8dc3', label='Single task model')\n",
    "ax.plot(training_steps, mv_mixed, color = '#7fbf7b', label='Mixed model')\n",
    "ax.plot(training_steps, continuation, color = '#7fbf7b', label='', linestyle='dotted')\n",
    "ax.legend(prop={'family': 'Times New Roman', 'size': 10}, frameon=True)\n",
    "ax.set_xlabel('# training steps', fontname='Times New Roman', fontsize=10)\n",
    "ax.set_ylabel('Normalized MSE', fontname='Times New Roman', fontsize=10)\n",
    "ax.set_title('Validation MSE During Training',fontname='Times New Roman', fontsize=12, fontweight='bold')\n",
    "for label in (ax.get_xticklabels() + ax.get_yticklabels()):\n",
    "        label.set_fontname('Times New Roman')\n",
    "        label.set_fontsize(10)\n",
    "plt.savefig(f\"{head_dir}/figure_2_efficiency_new.pdf\", bbox_inches='tight')\n"
   ]
  }
 ],
 "metadata": {
  "language_info": {
   "name": "python"
  }
 },
 "nbformat": 4,
 "nbformat_minor": 2
}
