{
 "cells": [
  {
   "cell_type": "markdown",
   "metadata": {},
   "source": [
    "# Import necessary packages"
   ]
  },
  {
   "cell_type": "code",
   "execution_count": 1,
   "metadata": {
    "ExecuteTime": {
     "end_time": "2023-09-06T03:11:29.116616Z",
     "start_time": "2023-09-06T03:11:28.209828Z"
    }
   },
   "outputs": [],
   "source": [
    "import os\n",
    "\n",
    "import matplotlib.pyplot as plt\n",
    "import numpy as np\n",
    "import pandas as pd\n",
    "import seaborn as sns\n",
    "import torch\n",
    "\n",
    "from eval import get_run_metrics, read_run_dir, get_model_from_run\n",
    "from samplers import get_data_sampler, sample_transformation\n",
    "from tasks import get_task_sampler\n",
    "from bertviz import head_view\n",
    "\n",
    "%matplotlib inline\n",
    "%load_ext autoreload\n",
    "%autoreload 2\n",
    "\n",
    "sns.set_theme('notebook', 'whitegrid')\n",
    "palette = sns.color_palette('colorblind')\n",
    "\n",
    "run_dir = \"/Users/harmonbhasin/hsbhasin@wisc.edu - Google Drive/My Drive/ICL/Models\"\n",
    "df = read_run_dir(run_dir)"
   ]
  },
  {
   "cell_type": "markdown",
   "metadata": {},
   "source": [
    "# Define function for multiple model plotting"
   ]
  },
  {
   "cell_type": "code",
   "execution_count": 2,
   "metadata": {
    "ExecuteTime": {
     "end_time": "2023-09-06T03:35:46.003377Z",
     "start_time": "2023-09-06T03:35:45.855258Z"
    }
   },
   "outputs": [],
   "source": [
    "def run_att_evaluation(subset_models, task_args, data_args, seed):\n",
    "    models = {}\n",
    "    configs = {}\n",
    "    n_points = 100\n",
    "    n_dims = 20\n",
    "    b_size = 1\n",
    "\n",
    "    for key in subset_models:\n",
    "        task = df.task[subset_models[key]]\n",
    "        run_id = df.run_id[subset_models[key]]\n",
    "        run_path = os.path.join(run_dir, task, run_id)\n",
    "        models[key], configs[key] = get_model_from_run(run_path)\n",
    "\n",
    "    vizDict = {}\n",
    "\n",
    "    for task_key in task_args:\n",
    "        current_task = task_args[task_key]\n",
    "        task_sampler = get_task_sampler(\n",
    "            current_task['task'],\n",
    "            n_dims,\n",
    "            b_size,\n",
    "            **{i: current_task[i] for i in current_task if i != 'task'}\n",
    "        )\n",
    "        print('Conducting evaluation on', current_task['task'], 'with degree of ', current_task['degree'], '\\n')\n",
    "        for data_key in data_args:\n",
    "            torch.manual_seed(seed)\n",
    "            current_data = data_args[data_key]\n",
    "            sample_args = {}\n",
    "\n",
    "            if current_data['type'] == 'Skewed':\n",
    "                eigenvals = 1 / (torch.arange(n_dims) + 1)\n",
    "                scale = sample_transformation(eigenvals, normalize=True)\n",
    "                sample_args['scale'] = scale\n",
    "\n",
    "            for data_info in current_data:\n",
    "                if data_info != 'data' and data_info != 'type':\n",
    "                    sample_args[data_info] = current_data[data_info]\n",
    "\n",
    "            data_sampler = get_data_sampler(current_data['data'], n_dims, **sample_args)\n",
    "\n",
    "            # Create an instance of the function class sampler; add seed stuff here\n",
    "            task = task_sampler()\n",
    "\n",
    "            # Generate x points; add seed stuff here\n",
    "            xs = data_sampler.sample_xs(n_points, b_size)\n",
    "\n",
    "            # Generate y points\n",
    "            ys = task.evaluate(xs)\n",
    "\n",
    "            for model_key in models:\n",
    "                prompt_col = 0\n",
    "                prompt_row = 0\n",
    "                conf = configs[model_key]['training']\n",
    "                prompt_args = conf['prompt_kwargs']\n",
    "                if len(prompt_args) != 0:\n",
    "                       if prompt_args['type'] == 'data':\n",
    "                           if prompt_args['encoding'] == 'dynamic':\n",
    "                               prompt_row = int(data_key[-1])\n",
    "                           prompt_col = prompt_args['position']\n",
    "                       elif prompt_args['type'] == 'task':\n",
    "                           if prompt_args['encoding'] == 'dynamic':\n",
    "                               prompt_row = int(task_key[-1])\n",
    "                           prompt_col = prompt_args['position']\n",
    "\n",
    "                temp_key = f\"{model_key}_{task_key}_{data_key}\"\n",
    "                with torch.no_grad():\n",
    "                    _, vizDict[temp_key], _ = models[model_key](xs,\n",
    "                                                          ys,\n",
    "                                                          conf['prompt_type'],\n",
    "                                                          prompt_row,\n",
    "                                                          prompt_col)\n",
    "                    if conf['prompt_type'] == 'standard':\n",
    "                        print(configs[model_key]['wandb']['name'], 'evaluated on', data_args[data_key]['type'], data_args[data_key]['data'], 'distribution')\n",
    "                    else:\n",
    "                        print(configs[model_key]['wandb']['name'], 'evaluated on', data_args[data_key]['type'], data_args[data_key]['data'], 'distribution with instruction in row', prompt_row, 'and column', prompt_col)\n",
    "\n",
    "    vizEntries = {}\n",
    "\n",
    "    for key in vizDict:\n",
    "        components = key.split('_')\n",
    "        model = components[0]\n",
    "\n",
    "        # Setup texts as replacement for the vectors so that we can use bertviz\n",
    "        heatmap_begin = [i for i in range(0, n_points*2)]\n",
    "        x_values = [f\"$x_{{{i:02d}}}$\" for i in range(1, n_points + 1)]\n",
    "        y_values = [f\"$y_{{{i:02d}}}$\" for i in range(1, n_points + 1)]\n",
    "\n",
    "        tokens = [value for pair in zip(x_values,y_values) for value in pair]\n",
    "\n",
    "        if configs[model]['training']['prompt_type'] != \"standard\":\n",
    "            heatmap_begin = [i for i in range(0, n_points*2+2)]\n",
    "            tokens.insert(0,\"$in_{{x}}$\")\n",
    "            tokens.insert(1,\"$in_{{y}}$\")\n",
    "\n",
    "        vizEntries[model] = dict(zip(heatmap_begin,tokens))\n",
    "\n",
    "    different_plots = {}\n",
    "\n",
    "    for key in vizDict:\n",
    "        components = key.split('_')\n",
    "        model = components[0]\n",
    "        task = components[1]\n",
    "        data = components[2]\n",
    "        task_data = f\"{task}_{data}\"\n",
    "        if model not in different_plots:\n",
    "            different_plots[model] = {}\n",
    "        different_plots[model][task_data] = vizDict[key]\n",
    "\n",
    "    return different_plots, vizDict, configs"
   ]
  },
  {
   "cell_type": "code",
   "execution_count": 81,
   "metadata": {
    "ExecuteTime": {
     "end_time": "2023-09-06T03:46:36.570024Z",
     "start_time": "2023-09-06T03:46:36.518879Z"
    }
   },
   "outputs": [],
   "source": [
    "def plot_heatmap_results(different_plots, vizDict, configs, task_args, data_args, head_dir, width=12,height=4):\n",
    "    n_dims = 20\n",
    "\n",
    "    rand_key = list(different_plots.keys())[0]\n",
    "\n",
    "    num_cols = len(different_plots[rand_key])\n",
    "\n",
    "    rand_key = list(vizDict.keys())[0]\n",
    "\n",
    "    matrix_size = len(vizDict[rand_key])\n",
    "\n",
    "    for key in different_plots:\n",
    "        fig, axes = plt.subplots(1, num_cols, figsize=(width, height))\n",
    "        model_spec = different_plots[key]\n",
    "        index = 0\n",
    "        for sub_key in model_spec:\n",
    "            components = sub_key.split('_')\n",
    "            task = components[0]\n",
    "            data = components[1]\n",
    "\n",
    "            attention = model_spec[sub_key]\n",
    "            batch_size, num_heads, seq_len, _ = attention[0].shape\n",
    "            output_matrix = np.zeros(shape=(12,8))\n",
    "            for i in range(0, len(attention)):\n",
    "                for j in range(0, num_heads):\n",
    "                    att_matrix = attention[i][0][j,:,:]\n",
    "                    masker = np.zeros(shape=matrix_size)\n",
    "                    for h in range(0,matrix_size-1):\n",
    "                        if (h+1) % 2 == 1:\n",
    "                            masker[h] = att_matrix[h+1][h]\n",
    "                    output_matrix[i][j] = masker.mean()\n",
    "\n",
    "            df = pd.DataFrame(output_matrix)\n",
    "            df.index +=1\n",
    "            df.columns = [1, 2, 3, 4, 5, 6, 7, 8]\n",
    "\n",
    "            sns.heatmap(df, cmap='viridis',cbar=False, ax=axes[index], vmin=0, vmax=0.5)#, annot=True, fmt='.1f')\n",
    "            #heatmap = sns.heatmap(df, cmap='viridis',cbar=True, ax=axes[index], vmin=0, vmax=0.5)#, annot=True, fmt='.1f')\n",
    "            #cbar = heatmap.collections[0].colorbar\n",
    "            #cbar.ax.yaxis.label.set_fontname('Times New Roman')  # Set font to Times New Roman\n",
    "            #cbar.ax.yaxis.label.set_fontsize(12)  # Set font size as needed\n",
    "\n",
    "            #axes[index].set_title(f\"Task: {task_args[task]['task']} with degree = {task_args[task]['degree']} \\n Distribution: {data_args[data]['type']} {data_args[data]['data']} \", fontsize=10)\n",
    "            #axes[index].set_ylabel('Layers', fontsize=9)\n",
    "            #axes[index].set_xlabel('Heads', fontsize=9)\n",
    "            axes[index].set_xticklabels(axes[index].get_xticklabels(), rotation=0, fontsize=12)\n",
    "            axes[index].set_yticklabels(axes[index].get_yticklabels(), rotation=0, fontsize=12)\n",
    "            for label in (axes[index].get_xticklabels() + axes[index].get_yticklabels()):\n",
    "                label.set_fontname('Times New Roman')\n",
    "                label.set_fontsize(12)\n",
    "            axes[index].set_xlabel(\"Head\", fontname='Times New Roman', fontsize=12)\n",
    "            index += 1\n",
    "        #plt.suptitle(f\"{configs[key]['wandb']['name']}\", fontsize=12)\n",
    "        axes[0].set_ylabel(\"Layer\", fontname='Times New Roman', fontsize=12)\n",
    "        plt.tight_layout()\n",
    "        #plt.show()\n",
    "        plt.savefig(f\"{head_dir}/att_{configs[key]['wandb']['name']}.pdf\")"
   ]
  },
  {
   "cell_type": "code",
   "execution_count": 66,
   "metadata": {},
   "outputs": [
    {
     "name": "stdout",
     "output_type": "stream",
     "text": [
      "model0: model_12_binomial\n"
     ]
    }
   ],
   "source": [
    "index = 0\n",
    "model_selection = {}\n",
    "model_to_name = {}\n",
    "\n",
    "for task_name in df.task:\n",
    "    #if \"model_12\" in task_name and '_i' not in task_name and 'quad' not in task_name or \"model_11_gaussian\" in task_name:\n",
    "    if \"model_12_binomial\" in task_name and '_i' not in task_name:\n",
    "        task_index = df.loc[df[\"task\"] == task_name].index[0]\n",
    "        model_selection[f'model{index}'] = task_index\n",
    "        print(f\"model{index}:\", task_name)\n",
    "        model_to_name[f\"model{index}\"] = task_name\n",
    "        index+=1\n"
   ]
  },
  {
   "cell_type": "code",
   "execution_count": 67,
   "metadata": {},
   "outputs": [],
   "source": [
    "task_args = {'task0': {'task': \"hermite_regression\", 'degree': 1},\n",
    "             'task1': {'task': \"hermite_regression\", 'degree': 2},\n",
    "             'task2': {'task': \"hermite_regression\", 'degree': 3}}\n",
    "\n",
    "data_args = {'data0': {'data': 'gaussian', 'type': 'Standard'}}\n",
    "seed=-152"
   ]
  },
  {
   "cell_type": "markdown",
   "metadata": {},
   "source": [
    "## Evaluate chosen models"
   ]
  },
  {
   "cell_type": "code",
   "execution_count": 68,
   "metadata": {},
   "outputs": [
    {
     "name": "stdout",
     "output_type": "stream",
     "text": [
      "Conducting evaluation on hermite_regression with degree of  1 \n",
      "\n",
      "Hermite Binomial evaluated on Standard gaussian distribution\n",
      "Conducting evaluation on hermite_regression with degree of  2 \n",
      "\n",
      "Hermite Binomial evaluated on Standard gaussian distribution\n",
      "Conducting evaluation on hermite_regression with degree of  3 \n",
      "\n",
      "Hermite Binomial evaluated on Standard gaussian distribution\n"
     ]
    }
   ],
   "source": [
    "different_plots, vizDict, configs = run_att_evaluation(subset_models=model_selection,\n",
    "                   task_args=task_args,\n",
    "                   data_args=data_args,\n",
    "                   seed=seed)"
   ]
  },
  {
   "cell_type": "markdown",
   "metadata": {},
   "source": [
    "## Selecting specific models to plot\n"
   ]
  },
  {
   "cell_type": "code",
   "execution_count": 69,
   "metadata": {},
   "outputs": [],
   "source": [
    "head_dir=\"/Users/harmonbhasin/College/Research/huLab/paper_figures/new_task\""
   ]
  },
  {
   "cell_type": "code",
   "execution_count": 72,
   "metadata": {},
   "outputs": [
    {
     "data": {
      "image/png": "[encoded data removed]",
      "text/plain": [
       "<Figure size 900x300 with 6 Axes>"
      ]
     },
     "metadata": {},
     "output_type": "display_data"
    }
   ],
   "source": [
    "plot_heatmap_results(different_plots=different_plots,\n",
    "                     vizDict=vizDict,\n",
    "                     configs=configs,\n",
    "                     task_args=task_args,\n",
    "                     data_args=data_args,\n",
    "                     width=9,\n",
    "                     height=3,\n",
    "                     head_dir=head_dir,\n",
    "                     )\n"
   ]
  }
 ],
 "metadata": {
  "kernelspec": {
   "display_name": "Python 3 (ipykernel)",
   "language": "python",
   "name": "python3"
  },
  "language_info": {
   "codemirror_mode": {
    "name": "ipython",
    "version": 3
   },
   "file_extension": ".py",
   "mimetype": "text/x-python",
   "name": "python",
   "nbconvert_exporter": "python",
   "pygments_lexer": "ipython3",
   "version": "3.8.12"
  }
 },
 "nbformat": 4,
 "nbformat_minor": 1
}
